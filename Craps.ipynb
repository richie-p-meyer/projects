{
 "cells": [
  {
   "cell_type": "code",
   "execution_count": 2,
   "id": "b064ed7e",
   "metadata": {},
   "outputs": [],
   "source": [
    "import pandas as pd\n",
    "import numpy as np\n",
    "from scipy import stats\n"
   ]
  },
  {
   "cell_type": "code",
   "execution_count": 3,
   "id": "dbc89c0a",
   "metadata": {},
   "outputs": [
    {
     "data": {
      "text/plain": [
       "8"
      ]
     },
     "execution_count": 3,
     "metadata": {},
     "output_type": "execute_result"
    }
   ],
   "source": [
    "die = stats.randint(1,7)\n",
    "def roll_die():\n",
    "    return die.rvs()\n",
    "def roll_dice():\n",
    "    return roll_die(), roll_die()\n",
    "\n",
    "sum(roll_dice())"
   ]
  },
  {
   "cell_type": "code",
   "execution_count": null,
   "id": "bf4dbe29",
   "metadata": {},
   "outputs": [
    {
     "name": "stdout",
     "output_type": "stream",
     "text": [
      "Coming out roll - ready? \n",
      "\n",
      "Great! You rolled a 1 and a 1 for a total of 2\n",
      "You lose!\n",
      "Coming out roll - ready? \n",
      "\n",
      "Great! You rolled a 6 and a 3 for a total of 9\n",
      "The point is now 9\n",
      "Are you ready to roll the dice? \n",
      "\n",
      "Great! You rolled a 1 and a 6 for a total of 7\n",
      "\n",
      "You lose, suckit\n"
     ]
    }
   ],
   "source": [
    "coming_out = True\n",
    "game_on = True\n",
    "point_on = False\n",
    "\n",
    "while game_on == True:\n",
    "    while coming_out == True:\n",
    "        input('Coming out roll - ready? \\n')\n",
    "        roll = roll_dice()\n",
    "        print(f'Great! You rolled a {roll[0]} and a {roll[1]} for a total of {sum(roll)}')\n",
    "        if sum(roll) in [2,3,12]:\n",
    "            print('You lose!')\n",
    "        elif sum(roll) in [7,11]:\n",
    "            print('Congrats! You win!')\n",
    "        else:\n",
    "            point = sum(roll)\n",
    "            print(f'The point is now {point}')\n",
    "            point_on = True\n",
    "            break\n",
    "    while point_on == True:\n",
    "        input('Are you ready to roll the dice? \\n')\n",
    "        roll = roll_dice()\n",
    "        print(f'Great! You rolled a {roll[0]} and a {roll[1]} for a total of {sum(roll)}\\n')   \n",
    "        \n",
    "        if sum(roll) == point:\n",
    "            print('Woot! You hit the point. Money money money!')\n",
    "            point = 0\n",
    "            break\n",
    "        elif sum(roll) == 7:\n",
    "            print('You lose, suckit')\n",
    "            point_on == False\n",
    "            break\n",
    "        else:\n",
    "            print(\"Let's roll again!\")\n",
    "            print(f'Point is {point}\\n')\n",
    "            \n",
    "        "
   ]
  },
  {
   "cell_type": "markdown",
   "id": "cd73af57",
   "metadata": {},
   "source": [
    "WIN: 7, 11\n",
    "LOSE: 2,3,12\n",
    "\n",
    "Points: 4,5,6,8,9,10"
   ]
  }
 ],
 "metadata": {
  "kernelspec": {
   "display_name": "Python 3 (ipykernel)",
   "language": "python",
   "name": "python3"
  },
  "language_info": {
   "codemirror_mode": {
    "name": "ipython",
    "version": 3
   },
   "file_extension": ".py",
   "mimetype": "text/x-python",
   "name": "python",
   "nbconvert_exporter": "python",
   "pygments_lexer": "ipython3",
   "version": "3.9.7"
  }
 },
 "nbformat": 4,
 "nbformat_minor": 5
}
