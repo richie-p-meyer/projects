{
 "cells": [
  {
   "cell_type": "markdown",
   "id": "aa5b06db",
   "metadata": {},
   "source": [
    "# Laundry Yard\n",
    "\n",
    "### Laundry Yard is a Laundromat in Lakewood, CO\n",
    "\n",
    "### Goal\n",
    "-The ultimate goal is to increase revenue. \n",
    "\n",
    "### Questions to explore\n",
    "1. Are there any times when either all washers or all dryers are in use? If so, are there ways to incentivize customers to come in at other times?\n",
    "2. Does payment type - cash or credit - affect revenue? If so, is it possible to incentivize the more profitable?\n",
    "3. Do any machines see more usage than others? If so, could maintenance help extend their lives?\n",
    "4. It is open from 8 am - 8 pm. Could extending hours increase profits?\n",
    "5. Could it be staffed more efficiently based on useage rates (days of week, holidays, times, etc.)\n",
    "6. Are certain types of machines more valuable (a certain size of washer/dryer)? Would it ever make sense to sell less used machines and buy more profitable ones?\n",
    "7. What is a loyalty card? Could it be beneficial to use?\n"
   ]
  },
  {
   "cell_type": "code",
   "execution_count": null,
   "id": "a5c6fb19",
   "metadata": {},
   "outputs": [],
   "source": [
    "import pandas as pd\n",
    "import numpy as np\n",
    "import matplotlib.pyplot as plt\n",
    "import seaborn as sns\n",
    "\n",
    "from sklearn.model_selection import train_test_split\n",
    "from sklearn.linear_model import LogisticRegression\n",
    "from sklearn.metrics import classification_report\n",
    "from sklearn.metrics import confusion_matrix"
   ]
  }
 ],
 "metadata": {
  "kernelspec": {
   "display_name": "Python 3 (ipykernel)",
   "language": "python",
   "name": "python3"
  },
  "language_info": {
   "codemirror_mode": {
    "name": "ipython",
    "version": 3
   },
   "file_extension": ".py",
   "mimetype": "text/x-python",
   "name": "python",
   "nbconvert_exporter": "python",
   "pygments_lexer": "ipython3",
   "version": "3.9.7"
  }
 },
 "nbformat": 4,
 "nbformat_minor": 5
}
